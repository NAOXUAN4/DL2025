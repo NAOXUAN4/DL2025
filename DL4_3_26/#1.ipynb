{
 "cells": [
  {
   "cell_type": "markdown",
   "metadata": {},
   "source": [
    "### 1. 实现并行模块（ParallelModule"
   ]
  },
  {
   "cell_type": "code",
   "execution_count": 2,
   "metadata": {},
   "outputs": [],
   "source": [
    "import torch\n",
    "from torch import nn"
   ]
  },
  {
   "cell_type": "code",
   "execution_count": null,
   "metadata": {},
   "outputs": [
    {
     "name": "stdout",
     "output_type": "stream",
     "text": [
      "tensor([[0.0000, 0.3107],\n",
      "        [0.0000, 0.3174]], grad_fn=<DivBackward0>)\n"
     ]
    },
    {
     "data": {
      "text/plain": [
       "torch.Size([2, 2])"
      ]
     },
     "execution_count": 9,
     "metadata": {},
     "output_type": "execute_result"
    }
   ],
   "source": [
    "class ParallelModule(nn.Module):\n",
    "    def __init__(self):\n",
    "        super().__init__()\n",
    "        self.net1 = nn.Sequential(nn.Linear(5, 3), nn.ReLU(),\n",
    "                                  nn.Linear(3,3), nn.ReLU(),\n",
    "                                nn.Linear(3,2), nn.ReLU())\n",
    "        self.net2 = nn.Sequential(nn.Linear(5, 16), nn.ReLU(),\n",
    "                                nn.Linear(16,2), nn.ReLU())\n",
    "        \n",
    "    def forward(self, x):\n",
    "        return (self.net1(x) + self.net2(x))/2\n",
    "    \n",
    "\n",
    "ParallelModule_re = ParallelModule()\n",
    "X = torch.rand(2, 5)  # 2 samples, 5 features\n",
    "print(ParallelModule_re(X))\n",
    "ParallelModule_re(X).shape"
   ]
  },
  {
   "cell_type": "markdown",
   "metadata": {},
   "source": [
    "可见，使用`net1`: `(input[5,3], hidden[3,3],output[3,2])`，`net2`:`(input[5,3],output[3,2])`, 在`forward` 中拼接，输出为`[x,2]`"
   ]
  },
  {
   "cell_type": "markdown",
   "metadata": {},
   "source": [
    "### 2.构建包含共享参数层的多层感知机"
   ]
  },
  {
   "cell_type": "code",
   "execution_count": null,
   "metadata": {},
   "outputs": [],
   "source": [
    "class sharedWeightNet(nn.Module):\n",
    "    def __init__(self):\n",
    "        super().__init__()\n",
    "        self.net1 = nn.Sequential(nn.Linear(5, 3), nn.ReLU(),\n",
    "                                  nn.Linear(3,3), nn.ReLU(),\n",
    "                                nn.Linear(3,2), nn.ReLU())\n",
    "        \n",
    "    def forward(self, x):\n",
    "        return (self.net1(x) + self.net2(x))/2\n",
    "    \n",
    "\n",
    "ParallelModule_re = ParallelModule()\n",
    "X = torch.rand(2, 5)  # 2 samples, 5 features\n",
    "print(ParallelModule_re(X))\n",
    "ParallelModule_re(X).shape"
   ]
  }
 ],
 "metadata": {
  "kernelspec": {
   "display_name": "PyGeneral",
   "language": "python",
   "name": "python3"
  },
  "language_info": {
   "codemirror_mode": {
    "name": "ipython",
    "version": 3
   },
   "file_extension": ".py",
   "mimetype": "text/x-python",
   "name": "python",
   "nbconvert_exporter": "python",
   "pygments_lexer": "ipython3",
   "version": "3.10.16"
  }
 },
 "nbformat": 4,
 "nbformat_minor": 2
}
