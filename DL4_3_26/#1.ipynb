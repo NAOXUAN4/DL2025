{
 "cells": [
  {
   "cell_type": "markdown",
   "metadata": {},
   "source": [
    "### 1. 实现并行模块（ParallelModule"
   ]
  },
  {
   "cell_type": "code",
   "execution_count": 2,
   "metadata": {},
   "outputs": [],
   "source": [
    "import torch\n",
    "from torch import nn"
   ]
  },
  {
   "cell_type": "code",
   "execution_count": null,
   "metadata": {},
   "outputs": [
    {
     "data": {
      "text/plain": [
       "torch.Size([25, 30])"
      ]
     },
     "execution_count": 6,
     "metadata": {},
     "output_type": "execute_result"
    }
   ],
   "source": [
    "class ParallelModule(nn.Module):\n",
    "    def __init__(self):\n",
    "        super().__init__()\n",
    "        self.net1 = nn.Sequential(nn.Linear(10, 10), nn.ReLU(),\n",
    "                                nn.Linear(10,30), nn.ReLU())\n",
    "        self.net2 = nn.Sequential(nn.Linear(10, 10), nn.ReLU(),\n",
    "                                nn.Linear(10,30), nn.ReLU())\n",
    "        \n",
    "    def forward(self, x):\n",
    "        return (self.net1(x) + self.net2(x))/2\n",
    "    \n",
    "\n",
    "ParallelModule_re = ParallelModule()\n",
    "X = torch.rand(25, 10)  # 25 samples, 10 features\n",
    "ParallelModule_re(X)\n",
    "ParallelModule_re(X).shape"
   ]
  }
 ],
 "metadata": {
  "kernelspec": {
   "display_name": "PyGeneral",
   "language": "python",
   "name": "python3"
  },
  "language_info": {
   "codemirror_mode": {
    "name": "ipython",
    "version": 3
   },
   "file_extension": ".py",
   "mimetype": "text/x-python",
   "name": "python",
   "nbconvert_exporter": "python",
   "pygments_lexer": "ipython3",
   "version": "3.10.16"
  }
 },
 "nbformat": 4,
 "nbformat_minor": 2
}
