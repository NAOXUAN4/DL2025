{
 "cells": [
  {
   "cell_type": "markdown",
   "metadata": {},
   "source": [
    "### 1. 实现并行模块（ParallelModule"
   ]
  },
  {
   "cell_type": "code",
   "execution_count": 1,
   "metadata": {},
   "outputs": [],
   "source": [
    "import torch\n",
    "from torch import nn"
   ]
  },
  {
   "cell_type": "code",
   "execution_count": 2,
   "metadata": {},
   "outputs": [
    {
     "name": "stdout",
     "output_type": "stream",
     "text": [
      "tensor([[0.0000, 0.0290],\n",
      "        [0.0000, 0.0000]], grad_fn=<DivBackward0>)\n"
     ]
    },
    {
     "data": {
      "text/plain": [
       "torch.Size([2, 2])"
      ]
     },
     "execution_count": 2,
     "metadata": {},
     "output_type": "execute_result"
    }
   ],
   "source": [
    "class ParallelModule(nn.Module):\n",
    "    def __init__(self):\n",
    "        super().__init__()\n",
    "        self.net1 = nn.Sequential(nn.Linear(5, 3), nn.ReLU(),\n",
    "                                  nn.Linear(3,3), nn.ReLU(),\n",
    "                                nn.Linear(3,2), nn.ReLU())\n",
    "        self.net2 = nn.Sequential(nn.Linear(5, 16), nn.ReLU(),\n",
    "                                nn.Linear(16,2), nn.ReLU())\n",
    "        \n",
    "    def forward(self, x):\n",
    "        return (self.net1(x) + self.net2(x))/2\n",
    "    \n",
    "\n",
    "ParallelModule_re = ParallelModule()\n",
    "X = torch.rand(2, 5)  # 2 samples, 5 features\n",
    "print(ParallelModule_re(X))\n",
    "ParallelModule_re(X).shape"
   ]
  },
  {
   "cell_type": "markdown",
   "metadata": {},
   "source": [
    "可见，使用`net1`: `(input[5,3], hidden[3,3],output[3,2])`，`net2`:`(input[5,3],output[3,2])`, 在`forward` 中拼接，输出为`[x,2]`"
   ]
  },
  {
   "cell_type": "markdown",
   "metadata": {},
   "source": [
    "### 2.构建包含共享参数层的多层感知机"
   ]
  },
  {
   "cell_type": "code",
   "execution_count": 3,
   "metadata": {},
   "outputs": [
    {
     "name": "stdout",
     "output_type": "stream",
     "text": [
      "tensor([[0.0000, 0.2077],\n",
      "        [0.0000, 0.2764]], grad_fn=<DivBackward0>)\n"
     ]
    },
    {
     "data": {
      "text/plain": [
       "torch.Size([2, 2])"
      ]
     },
     "execution_count": 3,
     "metadata": {},
     "output_type": "execute_result"
    }
   ],
   "source": [
    "class SharedWeightNet(nn.Module):\n",
    "    def __init__(self):\n",
    "        super().__init__()\n",
    "        \n",
    "        self.shared_linear = nn.Linear(5, 3)\n",
    "        \n",
    "        self.net1 = nn.Sequential(\n",
    "            self.shared_linear, nn.ReLU(),\n",
    "            nn.Linear(3, 3), nn.ReLU(),\n",
    "            nn.Linear(3, 2), nn.ReLU()\n",
    "        )\n",
    "        self.net2 = nn.Sequential(\n",
    "            self.shared_linear,  \n",
    "            nn.Linear(3, 16), nn.ReLU(),\n",
    "            nn.Linear(16, 2), nn.ReLU()\n",
    "        )\n",
    "    \n",
    "    def forward(self, x):\n",
    "        return (self.net1(x) + self.net2(x)) / 2 \n",
    "\n",
    "ParallelModule_re = ParallelModule()\n",
    "X = torch.rand(2, 5)  # 2 samples, 5 features\n",
    "print(ParallelModule_re(X))\n",
    "ParallelModule_re(X).shape"
   ]
  },
  {
   "cell_type": "code",
   "execution_count": 4,
   "metadata": {},
   "outputs": [
    {
     "name": "stderr",
     "output_type": "stream",
     "text": [
      "e:\\anaconda3\\envs\\py38\\lib\\site-packages\\tqdm\\auto.py:21: TqdmWarning: IProgress not found. Please update jupyter and ipywidgets. See https://ipywidgets.readthedocs.io/en/stable/user_install.html\n",
      "  from .autonotebook import tqdm as notebook_tqdm\n"
     ]
    },
    {
     "name": "stdout",
     "output_type": "stream",
     "text": [
      "\n",
      "Epoch 1\n",
      "Shared Layer Weight: tensor([[ 0.1729,  0.3095, -0.2705,  0.3356, -0.1239],\n",
      "        [-0.3827, -0.0933, -0.2389, -0.0820, -0.0832]])\n",
      "Shared Layer Grad: tensor([[-0.0042, -0.0070, -0.0058, -0.0051, -0.0054],\n",
      "        [ 0.0049,  0.0135,  0.0078,  0.0106,  0.0082]])\n",
      "\n",
      "Epoch 2\n",
      "Shared Layer Weight: tensor([[ 0.1729,  0.3095, -0.2705,  0.3356, -0.1239],\n",
      "        [-0.3828, -0.0934, -0.2390, -0.0821, -0.0833]])\n",
      "Shared Layer Grad: tensor([[-0.0042, -0.0069, -0.0058, -0.0051, -0.0054],\n",
      "        [ 0.0048,  0.0132,  0.0077,  0.0104,  0.0081]])\n",
      "\n",
      "Epoch 3\n",
      "Shared Layer Weight: tensor([[ 0.1730,  0.3096, -0.2704,  0.3357, -0.1238],\n",
      "        [-0.3828, -0.0936, -0.2390, -0.0822, -0.0834]])\n",
      "Shared Layer Grad: tensor([[-0.0042, -0.0069, -0.0058, -0.0051, -0.0054],\n",
      "        [ 0.0048,  0.0130,  0.0076,  0.0103,  0.0080]])\n"
     ]
    }
   ],
   "source": [
    "\n",
    "model = SharedWeightNet()\n",
    "criterion = nn.MSELoss()\n",
    "optimizer = torch.optim.SGD(model.parameters(), lr=0.01)\n",
    "\n",
    "\n",
    "X = torch.rand(2, 5)\n",
    "y_true = torch.rand(2, 2)\n",
    "\n",
    "\n",
    "for epoch in range(3):\n",
    "    optimizer.zero_grad()\n",
    "    \n",
    "    y_pred = model(X)\n",
    "    loss = criterion(y_pred, y_true)\n",
    "    \n",
    "    loss.backward()\n",
    "    \n",
    "    shared_params = list(model.shared_linear.parameters())\n",
    "    print(f\"\\nEpoch {epoch+1}\")\n",
    "    print(f\"Shared Layer Weight: {shared_params[0].data[:2]}\")\n",
    "    print(f\"Shared Layer Grad: {shared_params[0].grad[:2] if shared_params[0].grad is not None else 'No grad'}\")\n",
    "    \n",
    "    optimizer.step()"
   ]
  }
 ],
 "metadata": {
  "kernelspec": {
   "display_name": "py38",
   "language": "python",
   "name": "python3"
  },
  "language_info": {
   "codemirror_mode": {
    "name": "ipython",
    "version": 3
   },
   "file_extension": ".py",
   "mimetype": "text/x-python",
   "name": "python",
   "nbconvert_exporter": "python",
   "pygments_lexer": "ipython3",
   "version": "3.8.18"
  }
 },
 "nbformat": 4,
 "nbformat_minor": 2
}
